import streamlit as st
import torch
from torchvision import transforms
from PIL import Image
import numpy as np
from torch import nn
from streamlit_drawable_canvas import st_canvas

# Define the PyTorch model (same architecture used during training)
class SimpleNN(nn.Module):
    def __init__(self):
        super(SimpleNN, self).__init__()
        self.fc1 = nn.Linear(28 * 28, 128)  # Flatten input (28x28 pixels)
        self.fc2 = nn.Linear(128, 10)  # Output layer (10 classes)

    def forward(self, x):
        x = x.view(-1, 28 * 28)  # Flatten the image
        x = torch.relu(self.fc1(x))  # Apply ReLU activation
        x = self.fc2(x)  # Output layer
        return x

# Load the trained model (ensure the model is saved as 'mnist_model.pth')
model = SimpleNN()
model.load_state_dict(torch.load('mnist_model.pth'))
model.eval()  # Set to evaluation mode

# Define image preprocessing (matching training transformations)
transform = transforms.Compose([
    transforms.Resize((28, 28)),  # Resize the image to 28x28 pixels
    transforms.Grayscale(num_output_channels=1),  # Convert image to grayscale
    transforms.ToTensor(),
    transforms.Normalize((0.5,), (0.5,))  # Normalize
])

# Streamlit app interface
st.title("MNIST Digit Classifier - Draw a Digit")

# Create a drawing canvas using streamlit-drawable-canvas
canvas_result = st_canvas(
    fill_color="white", 
    stroke_width=15,
    stroke_color="black", 
    width=280, 
    height=280, 
    drawing_mode="freedraw", 
    key="canvas"
)

# When the user draws something
if canvas_result.image_data is not None:
    # Convert the canvas data into a PIL Image
    image = Image.fromarray(canvas_result.image_data.astype(np.uint8))

    # Preprocess the image for model input
    image_tensor = transform(image).unsqueeze(0)  # Add batch dimension

    # Make a prediction using the trained model
    with torch.no_grad():
        output = model(image_tensor)
        probabilities = torch.nn.functional.softmax(output, dim=1)  # Get probabilities
        confidences, predicted = torch.max(probabilities, 1)  # Get predicted label and confidence
    
    # Convert tensor to a displayable format
    image_display = image_tensor.squeeze().numpy()  # Remove the batch dimension
    image_display = (image_display * 255).astype(np.uint8)  # Rescale to 0-255 for display

    # Display the drawn image and prediction
    st.image(image_display, caption="Your Drawn Digit", use_column_width=True)
    st.write(f"Predicted Digit: {predicted.item()}")
    st.write(f"Confidence: {confidences.item():.4f}")
    
    # Allow the user to input the true label for feedback
    true_label = st.text_input("Enter the true label (for feedback)", "")
    if true_label:
        st.write(f"True Label: {true_label}")
        
        # Optionally: Save user feedback (e.g., for retraining) - this step is up to you
        # You could store the feedback for later use (not implemented here).
        
# Optionally, clear the canvas
if st.button("Clear Canvas"):
    st.experimental_rerun()