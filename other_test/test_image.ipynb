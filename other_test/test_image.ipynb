{
 "cells": [
  {
   "cell_type": "code",
   "execution_count": 32,
   "metadata": {},
   "outputs": [
    {
     "name": "stdout",
     "output_type": "stream",
     "text": [
      "The model predicts the number is: 3\n"
     ]
    }
   ],
   "source": [
    "import torch\n",
    "from PIL import Image\n",
    "from torchvision import transforms\n",
    "import torch.nn as nn\n",
    "\n",
    "# Define the model structure again (since we need the model class to load it)\n",
    "class SimpleModel(nn.Module):\n",
    "    def __init__(self):\n",
    "        super(SimpleModel, self).__init__()\n",
    "        self.conv_layers = nn.Sequential(\n",
    "            nn.Conv2d(1, 32, kernel_size=3),\n",
    "            nn.ReLU(),\n",
    "            nn.Conv2d(32, 64, kernel_size=3),\n",
    "            nn.ReLU(),\n",
    "            nn.Conv2d(64, 64, kernel_size=3),\n",
    "            nn.ReLU()\n",
    "        )\n",
    "        self.fc_layers = nn.Sequential(\n",
    "            nn.Flatten(),\n",
    "            nn.Linear(64 * 22 * 22, 10)\n",
    "        )\n",
    "\n",
    "    def forward(self, x):\n",
    "        x = self.conv_layers(x)\n",
    "        x = self.fc_layers(x)\n",
    "        return x\n",
    "\n",
    "# Load the model and its weights\n",
    "model = SimpleModel()\n",
    "model.load_state_dict(torch.load('model.pth'))\n",
    "model.eval()  # Set the model to evaluation mode\n",
    "\n",
    "# Define image preprocessing steps (resize, convert to grayscale, and normalize)\n",
    "transform = transforms.Compose([\n",
    "    transforms.Resize((28, 28)),        # Resize image to 28x28\n",
    "    transforms.Grayscale(1),            # Convert to grayscale\n",
    "    transforms.ToTensor()             # Convert to tensor\n",
    "])\n",
    "\n",
    "# Load your image (make sure it's the right path to the image)\n",
    "img_path = 'image_test.png'  # Replace with your image path\n",
    "img = Image.open(img_path)\n",
    "\n",
    "# Apply the transformation to the image\n",
    "img = transform(img)\n",
    "\n",
    "# Add a batch dimension (because PyTorch expects a batch of images, not a single one)\n",
    "img = img.unsqueeze(0)  # Shape becomes [1, 1, 28, 28] (1 image, 1 color channel, 28x28 pixels)\n",
    "\n",
    "# Make the prediction (no need to compute gradients during inference)\n",
    "\n",
    "with torch.no_grad():\n",
    "    output = model(img)\n",
    "\n",
    "# Get the predicted label (index of the max value in the output)\n",
    "_, predicted_label = torch.max(output, 1) #Finds the most likely class by selecting the index of the highest scor\n",
    "\n",
    "# Print the predicted label\n",
    "print(f'The model predicts the number is: {predicted_label.item()}')\n"
   ]
  },
  {
   "cell_type": "markdown",
   "metadata": {},
   "source": []
  }
 ],
 "metadata": {
  "kernelspec": {
   "display_name": "venv",
   "language": "python",
   "name": "python3"
  },
  "language_info": {
   "codemirror_mode": {
    "name": "ipython",
    "version": 3
   },
   "file_extension": ".py",
   "mimetype": "text/x-python",
   "name": "python",
   "nbconvert_exporter": "python",
   "pygments_lexer": "ipython3",
   "version": "3.12.4"
  }
 },
 "nbformat": 4,
 "nbformat_minor": 2
}
