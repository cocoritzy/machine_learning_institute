{
 "cells": [
  {
   "cell_type": "code",
   "execution_count": 11,
   "metadata": {},
   "outputs": [],
   "source": [
    "import torch\n",
    "from torchvision import datasets, transforms\n",
    "#torchvision is the part that helps us download and work with pictures like MNIST\n",
    "from torch.utils.data import DataLoader\n",
    "import torch.nn as nn\n",
    "import torch.optim as optim"
   ]
  },
  {
   "cell_type": "code",
   "execution_count": 12,
   "metadata": {},
   "outputs": [],
   "source": [
    "transform =transforms.Compose([transforms.ToTensor()])\n",
    "\n",
    "train_dataset=datasets.MNIST('data',train=True,download=True,transform=transform)\n",
    "test_dataset=datasets.MNIST('data',train=False,download=True,transform=transform)\n",
    "#transforms.ToTensor() means we’re changing the images into a format - tensors "
   ]
  },
  {
   "cell_type": "code",
   "execution_count": null,
   "metadata": {},
   "outputs": [],
   "source": [
    "#print(train_dataset[0])"
   ]
  },
  {
   "cell_type": "code",
   "execution_count": 13,
   "metadata": {},
   "outputs": [],
   "source": [
    "#Now, imagine we want to show multiple pictures to the robot at once so it can learn faster. We put them into batches. Each batch will have a bunch of pictures, say 64 pictures at a time.\n",
    "train_loader = DataLoader(train_dataset, batch_size=64, shuffle=True)\n",
    "test_loader = DataLoader(test_dataset, batch_size=64, shuffle=False)"
   ]
  },
  {
   "cell_type": "code",
   "execution_count": 14,
   "metadata": {},
   "outputs": [],
   "source": [
    "#Input: The picture of the number (a 28x28 square of tiny little dots).\n",
    "\n",
    "#Output: The robot guesses which number it thinks the picture is showing (from 0 to 9)\n",
    "\n",
    "# class SimpleModel(nn.Module):\n",
    "#     def __init__(self):\n",
    "#         super(SimpleModel, self).__init__()\n",
    "        \n",
    "#         # This part helps the robot look at the picture (28x28 pixels) and decide what number it sees\n",
    "#         self.fc1 = nn.Linear(28*28, 128)  # Flatten the 28x28 pixels into 1 row of 784 numbers\n",
    "#         self.fc2 = nn.Linear(128, 10)     # Output 10 guesses (0-9 numbers)\n",
    "\n",
    "#     def forward(self, x):\n",
    "#         x = x.view(-1, 28*28)  # Flatten the image from 28x28 to 1 long line\n",
    "#         x = torch.relu(self.fc1(x))  # Look at the first part (hidden layer)\n",
    "#         x = self.fc2(x)  # Guess which number it is (final output)\n",
    "#         return x\n",
    "# Define the image classifier model\n",
    "class SimpleModel(nn.Module):\n",
    "    def __init__(self):\n",
    "        super(SimpleModel, self).__init__()\n",
    "        self.conv_layers = nn.Sequential(\n",
    "            nn.Conv2d(1, 32, kernel_size=3),\n",
    "            nn.ReLU(),\n",
    "            nn.Conv2d(32, 64, kernel_size=3),\n",
    "            nn.ReLU(),\n",
    "            nn.Conv2d(64, 64, kernel_size=3),\n",
    "            nn.ReLU()\n",
    "        )\n",
    "        self.fc_layers = nn.Sequential(\n",
    "            nn.Flatten(),\n",
    "            nn.Linear(64 * 22 * 22, 10)\n",
    "        )\n",
    "\n",
    "    def forward(self, x):\n",
    "        x = self.conv_layers(x)\n",
    "        x = self.fc_layers(x)\n",
    "        return x"
   ]
  },
  {
   "cell_type": "code",
   "execution_count": 15,
   "metadata": {},
   "outputs": [
    {
     "name": "stdout",
     "output_type": "stream",
     "text": [
      "Epoch 1, Loss: 0.376335084438324\n",
      "Epoch 2, Loss: 0.2197747677564621\n",
      "Epoch 3, Loss: 0.0669187530875206\n",
      "Epoch 4, Loss: 0.03532875329256058\n",
      "Epoch 5, Loss: 0.11866281181573868\n"
     ]
    }
   ],
   "source": [
    "\n",
    "\n",
    "# Make the robot’s brain (model)\n",
    "model = SimpleModel()\n",
    "\n",
    "# This helps the robot understand how wrong it is when it guesses\n",
    "criterion = nn.CrossEntropyLoss()\n",
    "\n",
    "# This helps the robot learn from its mistakes\n",
    "optimizer = optim.SGD(model.parameters(), lr=0.01)\n",
    "\n",
    "# Teach the robot for a few rounds (epochs)\n",
    "epochs = 5\n",
    "for epoch in range(epochs):\n",
    "    for images, labels in train_loader:\n",
    "        optimizer.zero_grad()  # Clear old mistakes\n",
    "        \n",
    "        # The robot looks at the picture and tries to guess the number\n",
    "        outputs = model(images)\n",
    "        \n",
    "        # The robot checks how wrong it was\n",
    "        loss = criterion(outputs, labels)\n",
    "        \n",
    "        # The robot learns from its mistakes\n",
    "        loss.backward()\n",
    "        optimizer.step()\n",
    "        \n",
    "    print(f'Epoch {epoch+1}, Loss: {loss.item()}')\n"
   ]
  },
  {
   "cell_type": "code",
   "execution_count": 16,
   "metadata": {},
   "outputs": [
    {
     "name": "stdout",
     "output_type": "stream",
     "text": [
      "Accuracy: 97.87%\n"
     ]
    }
   ],
   "source": [
    "# See how well the robot does\n",
    "correct = 0\n",
    "total = 0\n",
    "with torch.no_grad():  # Don't do any training during testing\n",
    "    for images, labels in test_loader:\n",
    "        outputs = model(images)  # The robot guesses\n",
    "        _, predicted = torch.max(outputs, 1)  # The best guess\n",
    "        total += labels.size(0)\n",
    "        correct += (predicted == labels).sum().item()\n",
    "\n",
    "print(f'Accuracy: {100 * correct / total}%')  # Show how often the robot is correct\n"
   ]
  },
  {
   "cell_type": "code",
   "execution_count": 17,
   "metadata": {},
   "outputs": [],
   "source": [
    "# Save the trained model to a file\n",
    "torch.save(model.state_dict(), 'model.pth')\n"
   ]
  }
 ],
 "metadata": {
  "kernelspec": {
   "display_name": "venv",
   "language": "python",
   "name": "python3"
  },
  "language_info": {
   "codemirror_mode": {
    "name": "ipython",
    "version": 3
   },
   "file_extension": ".py",
   "mimetype": "text/x-python",
   "name": "python",
   "nbconvert_exporter": "python",
   "pygments_lexer": "ipython3",
   "version": "3.12.4"
  }
 },
 "nbformat": 4,
 "nbformat_minor": 2
}
